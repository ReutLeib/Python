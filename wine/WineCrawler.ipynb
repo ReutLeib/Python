{
 "cells": [
  {
   "cell_type": "code",
   "execution_count": 14,
   "metadata": {
    "collapsed": false
   },
   "outputs": [
    {
     "name": "stdout",
     "output_type": "stream",
     "text": [
      "['http://www.lcbo.com//lcbo/catalog/red-wine/11025/0/list', 'http://www.lcbo.com//lcbo/catalog/white-wine/11003/0/list', 'http://www.lcbo.com//lcbo/catalog/rose-wine/11026/0/list', 'http://www.lcbo.com//lcbo/catalog/champagne/11016/0/list', 'http://www.lcbo.com//lcbo/catalog/rose/11076/0/list', 'http://www.lcbo.com//lcbo/catalog/white/11085/0/list', 'http://www.lcbo.com//lcbo/catalog/sparkling-wine/11018/0/list']\n"
     ]
    },
    {
     "name": "stdout",
     "output_type": "stream",
     "text": [
      "<li class=\"active\">1</li>\n"
     ]
    },
    {
     "name": "stdout",
     "output_type": "stream",
     "text": [
      "<li class=\"active\">1</li>\n"
     ]
    },
    {
     "name": "stdout",
     "output_type": "stream",
     "text": [
      "<li class=\"active\">1</li>\n"
     ]
    },
    {
     "name": "stdout",
     "output_type": "stream",
     "text": [
      "<li class=\"active\">1</li>\n"
     ]
    },
    {
     "name": "stdout",
     "output_type": "stream",
     "text": [
      "<li class=\"active\">1</li>\n"
     ]
    },
    {
     "name": "stdout",
     "output_type": "stream",
     "text": [
      "<li class=\"active\">1</li>\n"
     ]
    },
    {
     "name": "stdout",
     "output_type": "stream",
     "text": [
      "<li class=\"active\">1</li>\n"
     ]
    }
   ],
   "source": [
    "from bs4 import BeautifulSoup\n",
    "from urllib.request import urlopen\n",
    "import re\n",
    "import json\n",
    "from pprint import pprint\n",
    "\n",
    "wineURLS = []\n",
    "winePAGES = []\n",
    "data = []\n",
    "dd = []\n",
    "dt = []\n",
    "\n",
    "wineList = urlopen(\"http://www.lcbo.com/content/lcbo/en/catalog/wine.html\")\n",
    "wineListSoup = BeautifulSoup(wineList.read(), \"lxml\")\n",
    "WineListDiv = wineListSoup.find(\"div\", {\"class\": \"nav\"})\n",
    "WineListDivNav = WineListDiv.findAll(\"a\", {})\n",
    "\n",
    "for wine in WineListDivNav[0:7]:\n",
    "   wineURLS.append('http://www.lcbo.com/'+str(wine['href']))\n",
    "\n",
    "print(wineURLS)\n",
    "\n",
    "# for WineURL in WinesURL:\n",
    "# Wine = urlopen(\"http://www.lcbo.com/lcbo/catalog/red-wine/11025\")\n",
    "while 0:\n",
    "    # FOR LOOP TO SWIPE BETWEEN PAGES\n",
    "    for wine in wineURLS[0:1]:\n",
    "        i = 0\n",
    "        while i <= 5712:\n",
    "            pageURL = wine + '#contentBeginIndex=0&productBeginIndex=' + i + '&beginIndex=' + i + '&orderBy=&categoryPath=wine%2Fred-wine&pageView=&resultType=products&orderByContent=&searchTerm=&facet=&storeId=10151&catalogId=10001&langId=-1&fromPage=&loginError=&userId=-1002&objectId=&requesttype=ajax'\n",
    "            page = urlopen(urlopen)\n",
    "            i += 12\n",
    "                \n",
    "        newWine = urlopen(wine)\n",
    "        # read html page\n",
    "        wineSoup = BeautifulSoup(newWine.read(), \"lxml\")\n",
    "        \n",
    "        # take all href from this page\n",
    "        wineDiv = wineSoup.findAll(\"div\", {\"class\": \"product-image\"})\n",
    "        \n",
    "        # for each wine \n",
    "        for linkToPages in wineDiv:\n",
    "            wineName = linkToPages.find('a')['title']\n",
    "            urlPage = \"http://www.lcbo.com\" + str(linkToPages.a['href'])\n",
    "        # print(urlPage)\n",
    "            singlePage = urlopen(urlPage)\n",
    "            singleSoup = BeautifulSoup(singlePage.read(), \"lxml\")\n",
    "            priceVal = singleSoup.find(\"span\", {\"class\": \"price-value\"})\n",
    "            \n",
    "            # Set name per wine\n",
    "            dt.append(\"Wine Name\")\n",
    "            dd.append(wineName)\n",
    "            \n",
    "            # Set price per wine\n",
    "            dt.append(\"Price\")\n",
    "            dd.append(priceVal.get_text())\n",
    "            \n",
    "            dlTag = singleSoup.find_all('dl')[-1]\n",
    "            for dtTag in dlTag('dt')[1:]:\n",
    "                \n",
    "                dt.append(dtTag.get_text())\n",
    "                \n",
    "            for ddTag in dlTag('dd')[1:]:\n",
    "                if ddTag.a is not None:\n",
    "                    dd.append(ddTag.a.get_text())\n",
    "                else:\n",
    "                    dd.append(ddTag.get_text())\n",
    "            \n",
    "        # Merge 2 lists to one dictionary\n",
    "            row = dict(zip(dt, dd))\n",
    "            \n",
    "            print(row)\n",
    "            print(\"*\")\n",
    "            del dt[:]\n",
    "            del dd[:]\n",
    "            \n",
    "            data.append(row)\n",
    "            \n",
    "        #  @TODO:\n",
    "        #  1. Insert 'Wine name': wineName to row\n",
    "        #  2. Save the dictionary without the 'quots'\n",
    "        #  3. Make loop that scanning the pages:\n",
    "        #  4. Store the data in DATA1.json file\n",
    "        #  5. Interact with API to CROSS the with DATA1.json and make DATA2.json\n",
    "        #  6. in Location : Split the ',' delimiter to 'city' and 'country'             \n",
   ]
  },
  {
   "cell_type": "code",
   "execution_count": 7,
   "metadata": {},
   "outputs": [],
   "source": []
  },
  {
   "cell_type": "code",
   "execution_count": 17,
   "metadata": {},
   "outputs": [],
   "source": []
  },
  {
   "cell_type": "code",
   "execution_count": null,
   "metadata": {},
   "outputs": [],
   "source": []
  }
 ],
 "metadata": {
  "kernelspec": {
   "display_name": "Python 2",
   "language": "python",
   "name": "python2"
  },
  "language_info": {
   "codemirror_mode": {
    "name": "ipython",
    "version": 2
   },
   "file_extension": ".py",
   "mimetype": "text/x-python",
   "name": "python",
   "nbconvert_exporter": "python",
   "pygments_lexer": "ipython2",
   "version": "2.7.6"
  }
 },
 "nbformat": 4,
 "nbformat_minor": 0
}
