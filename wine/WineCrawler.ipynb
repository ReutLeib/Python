{
 "cells": [
  {
   "cell_type": "code",
   "execution_count": 1,
   "metadata": {
    "collapsed": false
   },
   "outputs": [
    {
     "name": "stdout",
     "output_type": "stream",
     "text": [
      "['http://www.lcbo.com/lcbo/catalog/red-wine/11025/0/list', 'http://www.lcbo.com/lcbo/catalog/white-wine/11003/0/list', 'http://www.lcbo.com/lcbo/catalog/rose-wine/11026/0/list', 'http://www.lcbo.com/lcbo/catalog/champagne/11016/0/list', 'http://www.lcbo.com/lcbo/catalog/rose/11076/0/list', 'http://www.lcbo.com/lcbo/catalog/white/11085/0/list', 'http://www.lcbo.com/lcbo/catalog/sparkling-wine/11018/0/list']\n[5712, 2952, 324, 168, 420, 36, 60]\nhttp://www.lcbo.com/lcbo/catalog/red-wine/11025#contentBeginIndex=0&productBeginIndex=0&beginIndex=0&orderBy=&categoryPath=wine%2Fred-wine&pageView=&resultType=products&orderByContent=&searchTerm=&facet=&storeId=10151&catalogId=10001&langId=-1&fromPage=&loginError=&userId=-1002&objectId=&requesttype=ajax\n"
     ]
    },
    {
     "name": "stdout",
     "output_type": "stream",
     "text": [
      "PAGE NUMBER:0\n"
     ]
    },
    {
     "name": "stdout",
     "output_type": "stream",
     "text": [
      "{'Wine Name': 'Dalton Safsufa Vineyards Cabernet Sauvignon KPM', 'Price': '$26.30', 'Alcohol/Vol': '13.5%', 'Made in:': 'Galilee, Israel', 'By:': 'Dalton Winery Ltd.', 'Sugar Content:': '5 g/L', 'Sweetness Descriptor:': 'D - Dry', 'Style:': 'Medium-bodied & Fruity', 'Varietal:': 'Cabernet Sauvignon', 'Description': 'Available at select VINTAGES locations.'}\n*\n"
     ]
    },
    {
     "name": "stdout",
     "output_type": "stream",
     "text": [
      "{'Wine Name': 'Chateau Timberlay Bordeaux Superieur AOC', 'Price': '$16.95', 'Alcohol/Vol': '13.5%', 'Made in:': 'Bordeaux, France', 'By:': 'Domaines Robert Giraud', 'Sugar Content:': '2 g/L', 'Sweetness Descriptor:': 'XD - Extra Dry', 'Style:': 'Full-bodied & Firm', 'Varietal:': 'Merlot/Cabernet Sauvignon'}\n*\n"
     ]
    },
    {
     "name": "stdout",
     "output_type": "stream",
     "text": [
      "{'Wine Name': 'Masi Modello Merlot Trevenezie IGT', 'Price': '$24.05', 'Alcohol/Vol': '12.0%', 'Made in:': 'Italy', 'By:': 'Masi Agricola S.P.A.', 'Sugar Content:': '7 g/L', 'Sweetness Descriptor:': 'D - Dry', 'Style:': 'Full-bodied & Smooth', 'Varietal:': 'Merlot Blend'}\n*\n"
     ]
    },
    {
     "name": "stdout",
     "output_type": "stream",
     "text": [
      "{'Wine Name': 'Torres Sangre De Toro Garnacha, Catalunya DO', 'Price': '$11.95', 'Alcohol/Vol': '13.5%', 'Made in:': 'Catalunya, Spain', 'By:': 'Miguel Torres S.A.,', 'Sugar Content:': '2 g/L', 'Sweetness Descriptor:': 'XD - Extra Dry', 'Style:': 'Medium-bodied & Fruity', 'Varietal:': 'Blend'}\n*\n"
     ]
    },
    {
     "name": "stdout",
     "output_type": "stream",
     "text": [
      "{'Wine Name': 'Folonari Valpolicella Classico DOC', 'Price': '$14.95', 'Alcohol/Vol': '12.5%', 'Made in:': 'Veneto, Italy', 'By:': 'Folonari S.P.A.', 'Sugar Content:': '4 g/L', 'Sweetness Descriptor:': 'XD - Extra Dry', 'Style:': 'Light-bodied & Fruity', 'Varietal:': 'Valpolicella'}\n*\n"
     ]
    },
    {
     "name": "stdout",
     "output_type": "stream",
     "text": [
      "{'Wine Name': 'Mommessin Cuvee St Pierre Rouge', 'Price': '$8.45', 'Alcohol/Vol': '12.0%', 'Made in:': 'France', 'By:': 'Mommessin S.A.', 'Sugar Content:': '4 g/L', 'Sweetness Descriptor:': 'XD - Extra Dry', 'Style:': 'Light-bodied & Fruity', 'Varietal:': 'Blend'}\n*\n"
     ]
    },
    {
     "name": "stdout",
     "output_type": "stream",
     "text": [
      "{'Wine Name': 'Pisse-Dru Beaujolais', 'Price': '$13.95', 'Alcohol/Vol': '12.0%', 'Made in:': 'Burgundy, France', 'By:': 'Noemie Vernaux', 'Sugar Content:': '4 g/L', 'Sweetness Descriptor:': 'XD - Extra Dry', 'Style:': 'Light-bodied & Fruity', 'Varietal:': 'Gamay'}\n*\n"
     ]
    },
    {
     "name": "stdout",
     "output_type": "stream",
     "text": [
      "{'Wine Name': 'Peller Family Vineyards Cabernet Merlot', 'Price': '$11.95', 'Alcohol/Vol': '12.5%', 'Made in:': 'Canada', 'By:': 'Andrew Peller Limited', 'Sugar Content:': '4 g/L', 'Sweetness Descriptor:': 'XD - Extra Dry', 'Style:': 'Medium-bodied & Fruity', 'Varietal:': 'Blend'}\n*\n"
     ]
    },
    {
     "name": "stdout",
     "output_type": "stream",
     "text": [
      "{'Wine Name': 'Flat Rock Pinot Noir', 'Price': '$18.95', 'Alcohol/Vol': '13.0%', 'Made in:': 'Ontario, Canada', 'By:': 'Flat Rock Cellars', 'Sugar Content:': '3 g/L', 'Sweetness Descriptor:': 'XD - Extra Dry', 'Style:': 'Medium-bodied & Fruity', 'Varietal:': 'Pinot Noir', 'Description': 'Innovative Flat Rock Cellars specializes in crafting elegant Pinot Noir. This elegant wine is a great introduction, with its flavours of raspberry, beetroot, smoked meat and spice. This works well with grilled salmon or with veal in a red wine reduction.', 'This is a VQA wine': ''}\n*\n"
     ]
    },
    {
     "name": "stdout",
     "output_type": "stream",
     "text": [
      "{'Wine Name': 'Folonari Valpolicella Classico DOC', 'Price': '$9.95', 'Alcohol/Vol': '12.5%', 'Made in:': 'Veneto, Italy', 'By:': 'Folonari S.P.A.', 'Sugar Content:': '4 g/L', 'Sweetness Descriptor:': 'XD - Extra Dry', 'Style:': 'Light-bodied & Fruity', 'Varietal:': 'Valpolicella'}\n*\n"
     ]
    },
    {
     "name": "stdout",
     "output_type": "stream",
     "text": [
      "{'Wine Name': 'Sogrape Grao Vasco Dao', 'Price': '$8.75', 'Alcohol/Vol': '13.0%', 'Made in:': 'Dão, Portugal', 'By:': 'Vinicola Do Vale Do Dao Lda', 'Sugar Content:': '7 g/L', 'Sweetness Descriptor:': 'D - Dry', 'Style:': 'Medium-bodied & Fruity', 'Varietal:': 'DAO'}\n*\n"
     ]
    },
    {
     "name": "stdout",
     "output_type": "stream",
     "text": [
      "{'Wine Name': 'Velletri Le Contrade Red IGP', 'Price': '$18.95', 'Alcohol/Vol': '12.0%', 'Made in:': 'Lazio, Italy', 'By:': 'Soc. Agr. Veliterna Vini S.R.L', 'Sugar Content:': '2 g/L', 'Sweetness Descriptor:': 'XD - Extra Dry', 'Style:': 'Medium-bodied & Fruity', 'Varietal:': 'Blend'}\n*\nhttp://www.lcbo.com/lcbo/catalog/red-wine/11025#contentBeginIndex=0&productBeginIndex=12&beginIndex=12&orderBy=&categoryPath=wine%2Fred-wine&pageView=&resultType=products&orderByContent=&searchTerm=&facet=&storeId=10151&catalogId=10001&langId=-1&fromPage=&loginError=&userId=-1002&objectId=&requesttype=ajax\n"
     ]
    },
    {
     "name": "stdout",
     "output_type": "stream",
     "text": [
      "PAGE NUMBER:12\n"
     ]
    },
    {
     "name": "stdout",
     "output_type": "stream",
     "text": [
      "{'Wine Name': 'Dalton Safsufa Vineyards Cabernet Sauvignon KPM', 'Price': '$26.30', 'Alcohol/Vol': '13.5%', 'Made in:': 'Galilee, Israel', 'By:': 'Dalton Winery Ltd.', 'Sugar Content:': '5 g/L', 'Sweetness Descriptor:': 'D - Dry', 'Style:': 'Medium-bodied & Fruity', 'Varietal:': 'Cabernet Sauvignon', 'Description': 'Available at select VINTAGES locations.'}\n*\n"
     ]
    },
    {
     "name": "stdout",
     "output_type": "stream",
     "text": [
      "{'Wine Name': 'Chateau Timberlay Bordeaux Superieur AOC', 'Price': '$16.95', 'Alcohol/Vol': '13.5%', 'Made in:': 'Bordeaux, France', 'By:': 'Domaines Robert Giraud', 'Sugar Content:': '2 g/L', 'Sweetness Descriptor:': 'XD - Extra Dry', 'Style:': 'Full-bodied & Firm', 'Varietal:': 'Merlot/Cabernet Sauvignon'}\n*\n"
     ]
    },
    {
     "name": "stdout",
     "output_type": "stream",
     "text": [
      "{'Wine Name': 'Masi Modello Merlot Trevenezie IGT', 'Price': '$24.05', 'Alcohol/Vol': '12.0%', 'Made in:': 'Italy', 'By:': 'Masi Agricola S.P.A.', 'Sugar Content:': '7 g/L', 'Sweetness Descriptor:': 'D - Dry', 'Style:': 'Full-bodied & Smooth', 'Varietal:': 'Merlot Blend'}\n*\n"
     ]
    },
    {
     "name": "stdout",
     "output_type": "stream",
     "text": [
      "{'Wine Name': 'Torres Sangre De Toro Garnacha, Catalunya DO', 'Price': '$11.95', 'Alcohol/Vol': '13.5%', 'Made in:': 'Catalunya, Spain', 'By:': 'Miguel Torres S.A.,', 'Sugar Content:': '2 g/L', 'Sweetness Descriptor:': 'XD - Extra Dry', 'Style:': 'Medium-bodied & Fruity', 'Varietal:': 'Blend'}\n*\n"
     ]
    },
    {
     "name": "stdout",
     "output_type": "stream",
     "text": [
      "{'Wine Name': 'Folonari Valpolicella Classico DOC', 'Price': '$14.95', 'Alcohol/Vol': '12.5%', 'Made in:': 'Veneto, Italy', 'By:': 'Folonari S.P.A.', 'Sugar Content:': '4 g/L', 'Sweetness Descriptor:': 'XD - Extra Dry', 'Style:': 'Light-bodied & Fruity', 'Varietal:': 'Valpolicella'}\n*\n"
     ]
    },
    {
     "name": "stdout",
     "output_type": "stream",
     "text": [
      "{'Wine Name': 'Mommessin Cuvee St Pierre Rouge', 'Price': '$8.45', 'Alcohol/Vol': '12.0%', 'Made in:': 'France', 'By:': 'Mommessin S.A.', 'Sugar Content:': '4 g/L', 'Sweetness Descriptor:': 'XD - Extra Dry', 'Style:': 'Light-bodied & Fruity', 'Varietal:': 'Blend'}\n*\n"
     ]
    },
    {
     "name": "stdout",
     "output_type": "stream",
     "text": [
      "{'Wine Name': 'Pisse-Dru Beaujolais', 'Price': '$13.95', 'Alcohol/Vol': '12.0%', 'Made in:': 'Burgundy, France', 'By:': 'Noemie Vernaux', 'Sugar Content:': '4 g/L', 'Sweetness Descriptor:': 'XD - Extra Dry', 'Style:': 'Light-bodied & Fruity', 'Varietal:': 'Gamay'}\n*\n"
     ]
    },
    {
     "name": "stdout",
     "output_type": "stream",
     "text": [
      "{'Wine Name': 'Peller Family Vineyards Cabernet Merlot', 'Price': '$11.95', 'Alcohol/Vol': '12.5%', 'Made in:': 'Canada', 'By:': 'Andrew Peller Limited', 'Sugar Content:': '4 g/L', 'Sweetness Descriptor:': 'XD - Extra Dry', 'Style:': 'Medium-bodied & Fruity', 'Varietal:': 'Blend'}\n*\n"
     ]
    },
    {
     "name": "stdout",
     "output_type": "stream",
     "text": [
      "{'Wine Name': 'Flat Rock Pinot Noir', 'Price': '$18.95', 'Alcohol/Vol': '13.0%', 'Made in:': 'Ontario, Canada', 'By:': 'Flat Rock Cellars', 'Sugar Content:': '3 g/L', 'Sweetness Descriptor:': 'XD - Extra Dry', 'Style:': 'Medium-bodied & Fruity', 'Varietal:': 'Pinot Noir', 'Description': 'Innovative Flat Rock Cellars specializes in crafting elegant Pinot Noir. This elegant wine is a great introduction, with its flavours of raspberry, beetroot, smoked meat and spice. This works well with grilled salmon or with veal in a red wine reduction.', 'This is a VQA wine': ''}\n*\n"
     ]
    }
   ],
   "source": [
    "from bs4 import BeautifulSoup\n",
    "from urllib.request import urlopen\n",
    "import re\n",
    "import json\n",
    "from pprint import pprint\n",
    "\n",
    "wineURLS = []\n",
    "winePAGES = [5712, 2952, 324, 168, 420, 36, 60]\n",
    "newWine = []\n",
    "data = []\n",
    "dd = []\n",
    "dt = []\n",
    "\n",
    "# Getting the wine categories list\n",
    "wineList = urlopen(\"http://www.lcbo.com/content/lcbo/en/catalog/wine.html\")\n",
    "wineListSoup = BeautifulSoup(wineList.read(), \"lxml\")\n",
    "WineListDiv = wineListSoup.find(\"div\", {\"class\": \"nav\"})\n",
    "WineListDivNav = WineListDiv.findAll(\"a\", {})\n",
    "\n",
    "# Parsing each wine category link\n",
    "for wine in WineListDivNav[0:7]:\n",
    "    wineURLS.append('http://www.lcbo.com' + str(wine['href']))\n",
    "        \n",
    "\n",
    "print(wineURLS)\n",
    "print(winePAGES)\n",
    "\n",
    "# For loop to swipe between categories\n",
    "j = 0\n",
    "for wine in wineURLS[0:1]:\n",
    "    wine = wine.replace('/0/list', '')\n",
    "    i = 0\n",
    "    # For loop to swipe between pages\n",
    "    while i <= winePAGES[j]:\n",
    "        # Cast int to string\n",
    "        iStr = str(i)\n",
    "        pageURL: str = wine + '#contentBeginIndex=0&productBeginIndex=' + iStr + '&beginIndex=' + iStr + '&orderBy=&categoryPath=wine%2Fred-wine&pageView=&resultType=products&orderByContent=&searchTerm=&facet=&storeId=10151&catalogId=10001&langId=-1&fromPage=&loginError=&userId=-1002&objectId=&requesttype=ajax'\n",
    "        \n",
    "        print(pageURL)        \n",
    "\n",
    "        newWine = urlopen(pageURL)\n",
    "        wineSoup = BeautifulSoup(newWine, \"lxml\")\n",
    "        \n",
    "        print(\"PAGE NUMBER:\" + iStr)\n",
    "        \n",
    "        # Getting all the wines of current page\n",
    "        wineDiv = wineSoup.findAll(\"div\", {\"class\": \"product-image\"})\n",
    "\n",
    "        # Parsing the data of each wine \n",
    "        for linkToPages in wineDiv:\n",
    "            \n",
    "            # Opening the wine details page\n",
    "            urlPage = \"http://www.lcbo.com\" + str(linkToPages.a['href'])\n",
    "            singlePage = urlopen(urlPage)\n",
    "            singleSoup = BeautifulSoup(singlePage.read(), \"lxml\")\n",
    "    \n",
    "            # Set name per wine\n",
    "            wineName = linkToPages.find('a')['title']\n",
    "            dt.append(\"Wine Name\")\n",
    "            dd.append(wineName)\n",
    "    \n",
    "            # Set price per wine\n",
    "            priceVal = singleSoup.find(\"span\", {\"class\": \"price-value\"})\n",
    "            dt.append(\"Price\")\n",
    "            dd.append(priceVal.get_text())\n",
    "    \n",
    "            # Getting the last <dl>\n",
    "            dlTag = singleSoup.find_all('dl')[-1]\n",
    "            \n",
    "            # Parsing the <dt> details (key)\n",
    "            for dtTag in dlTag('dt')[1:]:\n",
    "                dt.append(dtTag.get_text())\n",
    "                \n",
    "            # Parsing the <dd> details (value)\n",
    "            for ddTag in dlTag('dd')[1:]:\n",
    "                if ddTag.a is not None:\n",
    "                    dd.append(ddTag.a.get_text())\n",
    "                else:\n",
    "                    dd.append(ddTag.get_text())\n",
    "    \n",
    "            # Merge 2 lists into one dictionary\n",
    "            row = dict(zip(dt, dd))\n",
    "\n",
    "            print(row)\n",
    "    \n",
    "            print(\"*\")\n",
    "            \n",
    "            del dt[:]\n",
    "            del dd[:]\n",
    "            \n",
    "            data.append(row)\n",
    "            row.clear()\n",
    "        # Next page\n",
    "        i += 12\n",
    "       \n",
    "    # Number of pages for each wine category\n",
    "    j += 1\n",
    "            \n",
    "            \n",
    "        #  @TODO:\n",
    "        #  4. Store the data in DATA1.json file\n",
    "        #  5. Interact with API to CROSS the with DATA1.json and make DATA2.json\n",
    "        #  6. in Location : Split the ',' delimiter to 'city' and 'country'\n"
   ]
  },
  {
   "cell_type": "code",
   "execution_count": 10,
   "metadata": {},
   "outputs": [],
   "source": []
  },
  {
   "cell_type": "code",
   "execution_count": 17,
   "metadata": {},
   "outputs": [],
   "source": []
  },
  {
   "cell_type": "code",
   "execution_count": null,
   "metadata": {},
   "outputs": [],
   "source": []
  }
 ],
 "metadata": {
  "kernelspec": {
   "display_name": "Python 2",
   "language": "python",
   "name": "python2"
  },
  "language_info": {
   "codemirror_mode": {
    "name": "ipython",
    "version": 2
   },
   "file_extension": ".py",
   "mimetype": "text/x-python",
   "name": "python",
   "nbconvert_exporter": "python",
   "pygments_lexer": "ipython2",
   "version": "2.7.6"
  }
 },
 "nbformat": 4,
 "nbformat_minor": 0
}
